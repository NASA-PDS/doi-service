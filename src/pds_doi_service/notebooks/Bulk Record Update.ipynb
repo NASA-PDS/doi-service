{
 "cells": [
  {
   "cell_type": "markdown",
   "id": "656e9701",
   "metadata": {},
   "source": [
    "# PDS DOI Service Bulk Record Update Notebook\n",
    "\n",
    "This notebook is provided as a utility for performing bulk updates over a number of DOI records sourced from DataCite. It assumes some familiarity with using the PDS DOI Service as well as the DataCite DOI record format.\n",
    "\n",
    "Bulk updates may be performed with this notebook in the following steps:\n",
    "\n",
    "* Define the query parameters for acquring the set of records to be updated\n",
    "* Run the DOI Service List action to obtain the set of records in a single JSON label. This label will also be parsed into an in-memory representation of `Doi` objects.\n",
    "\n",
    "From here, there are two means of performing bulk updates:\n",
    "\n",
    "* If you want to make updates on the JSON label directly, write the label to disk, make the desired updates, then commit the updated label to the local transaction database and DataCite.\n",
    "* If you want to write code to modify in-memory representations of the records, modify the cell under the **Perform Bulk Update(s) in Memory** cell to perform the desired changes. After all in-memory records are processed, they are reformed into a single JSON label. This label may then be written to disk and used to commit the changes to the local database or DataCite.\n",
    "\n",
    "Areas that require user input have been marked with `#TODO`"
   ]
  },
  {
   "cell_type": "markdown",
   "id": "59397bd9",
   "metadata": {},
   "source": [
    "## Imports/Environment Setup\n",
    "\n",
    "The following cell should be run first each time to import all classes need to perform the bulk update."
   ]
  },
  {
   "cell_type": "code",
   "execution_count": null,
   "id": "a997bff3",
   "metadata": {},
   "outputs": [],
   "source": [
    "import tempfile\n",
    "\n",
    "from pds_doi_service.core.actions import DOICoreActionList\n",
    "from pds_doi_service.core.actions import DOICoreActionUpdate\n",
    "from pds_doi_service.core.actions import DOICoreActionRelease\n",
    "from pds_doi_service.core.entities.doi import DoiEvent\n",
    "from pds_doi_service.core.entities.doi import DoiStatus\n",
    "from pds_doi_service.core.outputs.datacite import DOIDataCiteRecord\n",
    "from pds_doi_service.core.outputs.datacite import DOIDataCiteWebParser"
   ]
  },
  {
   "cell_type": "markdown",
   "id": "2c99da1c",
   "metadata": {},
   "source": [
    "## Set Query Parameters\n",
    "\n",
    "Use the following cell to define the query parameters used to obtain a set of DOI records for bulk update."
   ]
  },
  {
   "cell_type": "code",
   "execution_count": null,
   "id": "de6a1b52",
   "metadata": {},
   "outputs": [],
   "source": [
    "# TODO: assign these fields as necessary to query for the group of DOI records to be updated\n",
    "\n",
    "# DOI ID's to match\n",
    "doi_ids        = []\n",
    "\n",
    "# PDS ID's (PDS3 or LID/LIDVID) to match\n",
    "identifiers = []\n",
    "\n",
    "# PDS Node ID's (atm,eng,geo,img,naif,ppi,rs,rms,sbn) to match\n",
    "nodes       = []\n",
    "\n",
    "# Workflow status (draft,review,findable) to match\n",
    "status      = []\n",
    "\n",
    "# Start date range to filter by, must be YYYY-MM-DD[THH:mm:ss.ssssss[Z]]\n",
    "start_date  = \"\"\n",
    "\n",
    "# End date range to filter by, must be YYYY-MM-DD[THH:mm:ss.ssssss[Z]]\n",
    "end_date    = \"\"\n",
    "\n",
    "# Submitters to match, typically an email address\n",
    "submitters  = []"
   ]
  },
  {
   "cell_type": "markdown",
   "id": "9798da06",
   "metadata": {},
   "source": [
    "## Run List Query\n",
    "\n",
    "The following cell uses the DOI Service List Action to query for DOI records using the parameters set above.\n",
    "The result is returned in DataCite JSON format."
   ]
  },
  {
   "cell_type": "code",
   "execution_count": null,
   "id": "5de2b810",
   "metadata": {},
   "outputs": [],
   "source": [
    "list_action = DOICoreActionList()\n",
    "\n",
    "list_action_kwargs = {\n",
    "    \"format\"       : \"label\",\n",
    "    \"doi\"          : \",\".join(doi_ids),\n",
    "    \"ids\"          : \",\".join(identifiers),\n",
    "    \"node\"         : \",\".join(nodes),\n",
    "    \"status\"       : \",\".join(status),\n",
    "    \"start_update\" : start_date,\n",
    "    \"end_update\"   : end_date,\n",
    "    \"submitter\"    : \",\".join(submitters)\n",
    "}\n",
    "\n",
    "query_label = list_action.run(**list_action_kwargs)\n",
    "\n",
    "if query_label:\n",
    "    dois, _ = DOIDataCiteWebParser.parse_dois_from_label(query_label)\n",
    "    dois_count = len(dois)\n",
    "    print(f\"Obtained {dois_count} DOI{'' if dois_count == 1 else 's'} from provided query.\")\n",
    "else:\n",
    "    print(\"Provided query returned no results.\")"
   ]
  },
  {
   "cell_type": "markdown",
   "id": "b576db7d",
   "metadata": {},
   "source": [
    "## Check Query Results\n",
    "\n",
    "Run the following cell to output the label returned from the List query and ensure the results returned match what is expected."
   ]
  },
  {
   "cell_type": "code",
   "execution_count": null,
   "id": "96e4ea95",
   "metadata": {},
   "outputs": [],
   "source": [
    "print(query_label)"
   ]
  },
  {
   "cell_type": "markdown",
   "id": "5adba35d",
   "metadata": {},
   "source": [
    "## Write Query Results to Disk\n",
    "\n",
    "The following cell may be used to write the JSON label returned from the List query to disk. This can be useful for performing the required updates to the label itself, rather than operating on DOI objects in memory."
   ]
  },
  {
   "cell_type": "code",
   "execution_count": null,
   "id": "75608b84",
   "metadata": {},
   "outputs": [],
   "source": [
    "# TODO: Set this value to the path on disk you would like the label written to\n",
    "query_label_output_path = \"\"\n",
    "\n",
    "if query_label_output_path:\n",
    "    with open(query_label_output_path, 'w') as outfile:\n",
    "        outfile.write(query_label)"
   ]
  },
  {
   "cell_type": "markdown",
   "id": "4415f5d6",
   "metadata": {},
   "source": [
    "## Perform Bulk Update(s) In Memory\n",
    "\n",
    "The DOI records matching the query parameters have now been parsed to `Doi` objects and stored in memory (`dois`).\n",
    "\n",
    "The cells below may be used to make whatever updates are necessary to the DOIs in memory. Any DOIs to be updated should be assigned to the list `updated_dois`. If you plan to manually update the label returned from the query, you may skip to the **Commit Updated Label to Local Transaction Database** step. The path to the modified label should be provided for `updated_record_label_path`."
   ]
  },
  {
   "cell_type": "code",
   "execution_count": null,
   "id": "a11d8cba",
   "metadata": {},
   "outputs": [],
   "source": [
    "updated_dois = []\n",
    "\n",
    "for doi in dois:\n",
    "    # TODO: provide logic to update the current doi\n",
    "    # ex: doi.publisher = \"NASA Planetary Data System\"\n",
    "        \n",
    "    # The following lines ensure that any records processed that are in the\n",
    "    # Draft or Registered state are kept in the Draft/Registered state after submission\n",
    "    # to DataCite. This can be useful for preventing records from being moved to\n",
    "    # the Findable state prematurely.\n",
    "    if doi.status == DoiStatus.Registered:\n",
    "        doi.event = DoiEvent.Register\n",
    "    elif doi.status == DoiStatus.Draft:\n",
    "        doi.event = DoiEvent.Hide\n",
    "\n",
    "    updated_dois.append(doi)\n",
    "    \n",
    "updated_record_label = DOIDataCiteRecord().create_doi_record(updated_dois)"
   ]
  },
  {
   "cell_type": "markdown",
   "id": "a647f02f",
   "metadata": {},
   "source": [
    "## Check Updated Label\n",
    "\n",
    "Run the following cell to output the contents of the label created from the DOIs updated in-memory."
   ]
  },
  {
   "cell_type": "code",
   "execution_count": null,
   "id": "467fb729",
   "metadata": {},
   "outputs": [],
   "source": [
    "print(updated_record_label)"
   ]
  },
  {
   "cell_type": "markdown",
   "id": "8fdfe636",
   "metadata": {},
   "source": [
    "## Write Updated Label to Disk\n",
    "\n",
    "Run the following cell to write the updated label contents to a location on disk. This will allow us to submit the updated label to the DOI Service to push the updates to the local transaction database, and eventually to DataCite."
   ]
  },
  {
   "cell_type": "code",
   "execution_count": null,
   "id": "ee9505f8",
   "metadata": {},
   "outputs": [],
   "source": [
    "# TODO: Set this value to the path on disk you would like the updated label written to\n",
    "updated_record_label_path = \"\"\n",
    "\n",
    "if updated_record_label_path:\n",
    "    with open(updated_record_label_path, 'w') as outfile:\n",
    "        outfile.write(updated_record_label)"
   ]
  },
  {
   "cell_type": "markdown",
   "id": "fad32d12",
   "metadata": {},
   "source": [
    "## Commit Updated Label to Local Transaction Database\n",
    "\n",
    "The following cell may be used to commit the updated DOI records to the local transaction database without submission to DataCite. The result is a JSON label reflecting the updated records, which may then be used with the actual submission to DataCite below. Running this cell will also update the contents of `updated_record_label`, which may be written to disk using the previous cell."
   ]
  },
  {
   "cell_type": "code",
   "execution_count": null,
   "id": "907030d0",
   "metadata": {},
   "outputs": [],
   "source": [
    "# TODO: Assign the path to the label containing the updated records to read in.\n",
    "updated_record_label_path = \"\"\n",
    "\n",
    "if updated_record_label_path:\n",
    "    update_action = DOICoreActionUpdate()\n",
    "    \n",
    "    update_action_kwargs = {\n",
    "        \"input\": updated_record_label_path,\n",
    "        \"submitter\": \"pds-operator@jpl.nasa.gov\",\n",
    "        \"force\": False\n",
    "    }\n",
    "    \n",
    "    updated_record_label = update_action.run(**update_action_kwargs)"
   ]
  },
  {
   "cell_type": "markdown",
   "id": "cdf405a9",
   "metadata": {},
   "source": [
    "## Commit Updated Label to DataCite\n",
    "\n",
    "The following cell may be used to commit the updated DOI records to DataCite. After submission, all records will be in the `findable` state. A final label containing the updated records reflecting their released state is returned. Note that this notebook assumes the local PDS DOI Service is configured with the correct credentials for submissions to DataCite."
   ]
  },
  {
   "cell_type": "code",
   "execution_count": null,
   "id": "42d08b20",
   "metadata": {},
   "outputs": [],
   "source": [
    "# TODO: Assign the path to the label containing the updated records to submit to DataCite\n",
    "release_record_label_path = \"\"\n",
    "\n",
    "if release_record_label_path:\n",
    "    release_action = DOICoreActionRelease()\n",
    "    \n",
    "    release_action_kwargs = {\n",
    "        \"input\": release_record_label_path,\n",
    "        \"submitter\": \"pds-operator@jpl.nasa.gov\",\n",
    "        \"review\": False,\n",
    "        \"force\": True\n",
    "    }\n",
    "    \n",
    "    released_record_label = release_action.run(**release_action_kwargs)"
   ]
  },
  {
   "cell_type": "markdown",
   "id": "784092c8",
   "metadata": {},
   "source": [
    "## Check Released Record\n",
    "\n",
    "Run the following cell to output the contents of the label containing the records released to DataCite."
   ]
  },
  {
   "cell_type": "code",
   "execution_count": null,
   "id": "cb4f8706",
   "metadata": {},
   "outputs": [],
   "source": [
    "print(released_record_label)"
   ]
  },
  {
   "cell_type": "markdown",
   "id": "17f756c0",
   "metadata": {},
   "source": [
    "## Write Released Record to Disk\n",
    "\n",
    "Run the following cell to write the released label contents to a location on disk."
   ]
  },
  {
   "cell_type": "code",
   "execution_count": null,
   "id": "49b0705c",
   "metadata": {},
   "outputs": [],
   "source": [
    "# TODO: Set this value to the path on disk you would like the released label written to\n",
    "released_record_label_path = \"\"\n",
    "\n",
    "if released_record_label_path:\n",
    "    with open(released_record_label_path, 'w') as outfile:\n",
    "        outfile.write(released_record_label)"
   ]
  }
 ],
 "metadata": {
  "kernelspec": {
   "display_name": "Python 3 (ipykernel)",
   "language": "python",
   "name": "python3"
  },
  "language_info": {
   "codemirror_mode": {
    "name": "ipython",
    "version": 3
   },
   "file_extension": ".py",
   "mimetype": "text/x-python",
   "name": "python",
   "nbconvert_exporter": "python",
   "pygments_lexer": "ipython3",
   "version": "3.9.7"
  }
 },
 "nbformat": 4,
 "nbformat_minor": 5
}
